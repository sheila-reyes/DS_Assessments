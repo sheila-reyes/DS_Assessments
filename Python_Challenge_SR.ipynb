{
 "cells": [
  {
   "cell_type": "markdown",
   "metadata": {},
   "source": [
    "# Project 1: Python Coding Exercises"
   ]
  },
  {
   "cell_type": "markdown",
   "metadata": {},
   "source": [
    "The following code challenges are drawn from common exercises used in technical interviews.\n",
    "\n",
    "Please note that there may be several ways to approach each challenge. If you get stuck, try mapping out your approach in pseudocode first. Finally, while solutions to problems like these may be found online, remember that if you copy/paste code that you can't explain, you'll be missing out on the point of the project. The only way to truly learn a new skill is through practice, trial, and error - we can only help you improve by understanding where you are having trouble."
   ]
  },
  {
   "cell_type": "markdown",
   "metadata": {},
   "source": [
    "### Challenge 1: Largest Palindrome\n",
    "A palindromic number reads the same both ways. For example, 1234321 is a palindrome. The largest palindrome made from the product of two two-digit numbers is 9009 = 91 × 99. Find the largest palindrome made from the product of two three-digit numbers. Afterward, write a brief explanation walking through your code's logic in markdown."
   ]
  },
  {
   "cell_type": "code",
   "execution_count": 1,
   "metadata": {},
   "outputs": [
    {
     "name": "stdout",
     "output_type": "stream",
     "text": [
      "Number 1: 999\n",
      "Number 2: 999\n",
      "Largest Palindrome result: 906609\n"
     ]
    }
   ],
   "source": [
    "# initialize variables/objects\n",
    "nmax_1 = 1000\n",
    "nmax_2 = 1000\n",
    "\n",
    "p_product = 0\n",
    "p_result = ' '\n",
    "p_result_list=[]\n",
    "\n",
    "p_numlist_1 = []\n",
    "p_numlist_2 = []\n",
    " \n",
    "# use funtion that reverse the value of the result after converting to string\n",
    "def ispalindrome(p_result):\n",
    "    return str(p_result) == str(p_result)[::-1]\n",
    "\n",
    "# loop multiplying 2 values\n",
    "for p_num1 in range(1, nmax_1):\n",
    "    for p_num2 in range(1, nmax_2):\n",
    "        \n",
    "        p_product = p_num1 * p_num2\n",
    "        \n",
    "        # call function on top to evaluate value. if true, add it to the list\n",
    "        if ispalindrome(p_product):\n",
    "            p_result_list.append(p_product)\n",
    "            p_numlist_1.append(p_num1)\n",
    "            p_numlist_2.append(p_num2)\n",
    "            \n",
    "# result            \n",
    "print(f'Number 1:', max(p_numlist_1))            \n",
    "print(f'Number 2:', max(p_numlist_2))          \n",
    "print(f'Largest Palindrome result:' , max(p_result_list))"
   ]
  },
  {
   "cell_type": "markdown",
   "metadata": {},
   "source": [
    "\n",
    "### Challenge 2: Summation of Primes\n",
    "The sum of the primes below 10 is 2 + 3 + 5 + 7 = 17. Find the sum of all the primes below 2,000. Afterward, write a brief explanation walking through your code's logic in markdown."
   ]
  },
  {
   "cell_type": "code",
   "execution_count": 2,
   "metadata": {},
   "outputs": [
    {
     "name": "stdout",
     "output_type": "stream",
     "text": [
      "{2, 3, 5, 7, 1031, 521, 1033, 11, 523, 13, 1543, 1039, 1549, 17, 1021, 19, 1553, 23, 1531, 1049, 1559, 1051, 29, 541, 31, 1567, 547, 1571, 37, 1061, 1063, 41, 43, 1579, 557, 1069, 47, 1583, 563, 53, 569, 59, 571, 61, 1597, 1087, 577, 1601, 67, 1091, 1093, 71, 1607, 73, 1097, 587, 1609, 1613, 79, 1103, 593, 83, 1619, 1109, 1621, 599, 89, 601, 1627, 1117, 607, 97, 1123, 101, 613, 103, 1637, 617, 1129, 107, 619, 109, 113, 631, 1657, 127, 1151, 641, 1153, 131, 643, 1663, 1667, 647, 1669, 137, 139, 1163, 653, 659, 1171, 149, 661, 151, 157, 1181, 1693, 673, 1697, 163, 1187, 677, 1699, 167, 1193, 683, 173, 1709, 1201, 179, 691, 181, 1721, 1723, 701, 1213, 191, 193, 1217, 197, 709, 199, 1223, 1733, 1229, 1741, 719, 1231, 211, 1747, 1237, 727, 1753, 733, 223, 1759, 1249, 227, 739, 229, 743, 233, 1259, 239, 751, 241, 1777, 757, 1783, 761, 251, 1787, 1277, 1789, 1279, 257, 769, 1283, 773, 263, 1289, 1801, 1291, 269, 271, 1297, 787, 1811, 277, 1301, 1303, 281, 283, 1307, 797, 1823, 293, 1319, 1831, 809, 1321, 811, 1327, 307, 821, 311, 823, 313, 1847, 827, 317, 829, 1861, 839, 331, 1867, 1871, 337, 1361, 1873, 853, 1877, 1367, 1879, 857, 347, 859, 349, 1373, 863, 353, 1889, 1381, 359, 877, 1901, 367, 881, 883, 1907, 373, 887, 1399, 1913, 379, 383, 1409, 389, 907, 1931, 397, 1933, 911, 1423, 401, 1427, 1429, 919, 409, 1433, 1949, 1439, 1951, 929, 419, 421, 1447, 937, 1451, 941, 1453, 431, 433, 947, 1459, 1973, 439, 953, 443, 1979, 1471, 449, 1987, 967, 457, 1481, 971, 1483, 461, 1993, 463, 1487, 977, 1489, 467, 1997, 1493, 1999, 983, 1499, 479, 991, 997, 487, 1511, 491, 1009, 499, 1523, 1013, 503, 1019, 509}\n",
      "Total of all unique prime values (below 2000) is: 277050\n"
     ]
    }
   ],
   "source": [
    "# initialize all variables/objects\n",
    "p_min = 2\n",
    "p_max = 2000\n",
    "prime_list = []\n",
    "prime_set  = {}\n",
    "prime_total = 0\n",
    "\n",
    "# min prime numbe is 2. \n",
    "# using iterator and modulus operator if there is a remainder value (if there is a remainder, it is a prime)\n",
    "# store value into list\n",
    "for number in range(p_min, p_max):\n",
    "    for i in range(2, number):\n",
    "        if (number % i)==0:\n",
    "            break\n",
    "    else:\n",
    "        # print(number)\n",
    "        prime_list.append(number)\n",
    "\n",
    "# convert list to set to ensure unique values        \n",
    "prime_set = set(prime_list)\n",
    "\n",
    "# iterate into each value of the set to sum up figures\n",
    "for p_num in prime_set:\n",
    "    prime_total += p_num\n",
    "\n",
    "# print result\n",
    "print(prime_set)\n",
    "print(f'Total of all unique prime values (below 2000) is:', prime_total)\n"
   ]
  },
  {
   "cell_type": "markdown",
   "metadata": {},
   "source": [
    "### Challenge 3: Multiples of 3 and 5\n",
    "If we list all of the natural numbers below 10 that are multiples of 3 or 5, we get 3, 5, 6, and 9. The sum of these multiples is 23. Find the sum of all the multiples of 3 and 5 below 1,000. Afterward, write a brief explanation walking through your code's logic in markdown."
   ]
  },
  {
   "cell_type": "code",
   "execution_count": 3,
   "metadata": {},
   "outputs": [
    {
     "name": "stdout",
     "output_type": "stream",
     "text": [
      "{3, 5, 6, 9, 10, 12, 15, 18, 20, 21, 24, 25, 27, 30, 33, 35, 36, 39, 40, 42, 45, 48, 50, 51, 54, 55, 57, 60, 63, 65, 66, 69, 70, 72, 75, 78, 80, 81, 84, 85, 87, 90, 93, 95, 96, 99, 100, 102, 105, 108, 110, 111, 114, 115, 117, 120, 123, 125, 126, 129, 130, 132, 135, 138, 140, 141, 144, 145, 147, 150, 153, 155, 156, 159, 160, 162, 165, 168, 170, 171, 174, 175, 177, 180, 183, 185, 186, 189, 190, 192, 195, 198, 200, 201, 204, 205, 207, 210, 213, 215, 216, 219, 220, 222, 225, 228, 230, 231, 234, 235, 237, 240, 243, 245, 246, 249, 250, 252, 255, 258, 260, 261, 264, 265, 267, 270, 273, 275, 276, 279, 280, 282, 285, 288, 290, 291, 294, 295, 297, 300, 303, 305, 306, 309, 310, 312, 315, 318, 320, 321, 324, 325, 327, 330, 333, 335, 336, 339, 340, 342, 345, 348, 350, 351, 354, 355, 357, 360, 363, 365, 366, 369, 370, 372, 375, 378, 380, 381, 384, 385, 387, 390, 393, 395, 396, 399, 400, 402, 405, 408, 410, 411, 414, 415, 417, 420, 423, 425, 426, 429, 430, 432, 435, 438, 440, 441, 444, 445, 447, 450, 453, 455, 456, 459, 460, 462, 465, 468, 470, 471, 474, 475, 477, 480, 483, 485, 486, 489, 490, 492, 495, 498, 500, 501, 504, 505, 507, 510, 513, 515, 516, 519, 520, 522, 525, 528, 530, 531, 534, 535, 537, 540, 543, 545, 546, 549, 550, 552, 555, 558, 560, 561, 564, 565, 567, 570, 573, 575, 576, 579, 580, 582, 585, 588, 590, 591, 594, 595, 597, 600, 603, 605, 606, 609, 610, 612, 615, 618, 620, 621, 624, 625, 627, 630, 633, 635, 636, 639, 640, 642, 645, 648, 650, 651, 654, 655, 657, 660, 663, 665, 666, 669, 670, 672, 675, 678, 680, 681, 684, 685, 687, 690, 693, 695, 696, 699, 700, 702, 705, 708, 710, 711, 714, 715, 717, 720, 723, 725, 726, 729, 730, 732, 735, 738, 740, 741, 744, 745, 747, 750, 753, 755, 756, 759, 760, 762, 765, 768, 770, 771, 774, 775, 777, 780, 783, 785, 786, 789, 790, 792, 795, 798, 800, 801, 804, 805, 807, 810, 813, 815, 816, 819, 820, 822, 825, 828, 830, 831, 834, 835, 837, 840, 843, 845, 846, 849, 850, 852, 855, 858, 860, 861, 864, 865, 867, 870, 873, 875, 876, 879, 880, 882, 885, 888, 890, 891, 894, 895, 897, 900, 903, 905, 906, 909, 910, 912, 915, 918, 920, 921, 924, 925, 927, 930, 933, 935, 936, 939, 940, 942, 945, 948, 950, 951, 954, 955, 957, 960, 963, 965, 966, 969, 970, 972, 975, 978, 980, 981, 984, 985, 987, 990, 993, 995, 996, 999}\n",
      "Total of all unique values divisible by 3 and 5 (below 1000) is: 233168\n"
     ]
    }
   ],
   "source": [
    "# initialize all variables/objects\n",
    "max_num = 1000\n",
    "numlist_3 = []\n",
    "numlist_5 = []\n",
    "numlist_set = {}\n",
    "numadd =  0\n",
    "\n",
    "# create a list of all values divisible by 3\n",
    "for num in range(3,max_num,3):\n",
    "    numlist_3.append(num)\n",
    "\n",
    "#print(numlist_3)\n",
    "\n",
    "# create a list of all values divisible by 5\n",
    "for num in range(5,max_num,5):\n",
    "    numlist_5.append(num)\n",
    "\n",
    "#print(numlist_5)\n",
    "\n",
    "# convert list into set to get unique values\n",
    "numlist_set = numlist_3 + numlist_5\n",
    "#numlist_set.sort()\n",
    "numlist_set2 = set(numlist_set)\n",
    "\n",
    "# all values divisible by 3 and 5 (below 1000)\n",
    "print(numlist_set2)\n",
    "\n",
    "# merge each unique values inside the set and sum up the values\n",
    "for numsum in numlist_set2:\n",
    "    numadd += numsum\n",
    "\n",
    "print(f'Total of all unique values divisible by 3 and 5 (below 1000) is:', numadd)"
   ]
  },
  {
   "cell_type": "markdown",
   "metadata": {},
   "source": [
    "### Challenge 4: String Compressor\n",
    "Implement a method to perform basic string compression using the counts of repeated characters. (This is called run-length encoding.) For example, the string \"aabcccccaaa\" would become a2b1c5a3. If the “compressed” string would not become smaller than the original string, your method should return the original string. You can assume the string has only uppercase and lowercase letters (a–z). Specify whether your solution is case sensitive or case insensitive and what you would need to change to make it the other. Afterward, write a brief explanation walking through your code's logic in markdown."
   ]
  },
  {
   "cell_type": "code",
   "execution_count": 1,
   "metadata": {},
   "outputs": [
    {
     "name": "stdout",
     "output_type": "stream",
     "text": [
      "('Compressed Word:X6S4B3 Compressed Length:6', 'Original Word:XXXxxxSSSsBbb Original Length:13', 'Final output: XXXxxxSSSsBbb')\n"
     ]
    }
   ],
   "source": [
    "def char_count(eval_word):\n",
    "    output = \"\"\n",
    "    ch_iterator = 0\n",
    "\n",
    "    #converts the chars to capital letters\n",
    "    all_caps = eval_word.upper()\n",
    "            \n",
    "    # iterates thru each character\n",
    "    while ch_iterator < len(all_caps):\n",
    "        count = 1\n",
    "        ch = all_caps[ch_iterator]\n",
    "        ch_counter = ch_iterator\n",
    "        \n",
    "        # counts the number of occurence of the character\n",
    "        while ch_counter < len(all_caps)-1:\n",
    "            if  all_caps[ch_counter] == all_caps[ch_counter + 1]:\n",
    "                count = count + 1\n",
    "                ch_counter = ch_counter + 1\n",
    "            else:\n",
    "                break\n",
    "                \n",
    "        output = output + ch + str(count)\n",
    "        ch_iterator = ch_counter + 1\n",
    "    \n",
    "    # returns the compressed, original and evaluated output based on lenght of the chars\n",
    "    return 'Compressed Word:' + output + ' Compressed Length:' + str(len(output)),\\\n",
    "           'Original Word:' + eval_word + ' Original Length:' + str(len(eval_word)),\\\n",
    "           'Final output: ' + eval_word if len(output) < len(all_caps) else output\n",
    "\n",
    "output = char_count(\"XXXxxxSSSsBbb\")\n",
    "print(output)"
   ]
  },
  {
   "cell_type": "markdown",
   "metadata": {},
   "source": [
    "### *BONUS* Challenge: FizzBuzz\n",
    "Write a program that prints all of the numbers from 1 to 100. For multiples of 3, instead of the number, print \"Fizz;\" for multiples of 5, print \"Buzz.\" For numbers that are multiples of both 3 and 5, print \"FizzBuzz.\" Afterward, write a brief explanation walking through your code's logic in markdown."
   ]
  },
  {
   "cell_type": "code",
   "execution_count": 4,
   "metadata": {},
   "outputs": [
    {
     "name": "stdout",
     "output_type": "stream",
     "text": [
      "FizzBuzz\n",
      "1\n",
      "2\n",
      "Fizz\n",
      "4\n",
      "Buzz\n",
      "Fizz\n",
      "7\n",
      "8\n",
      "Fizz\n",
      "Buzz\n",
      "11\n",
      "Fizz\n",
      "13\n",
      "14\n",
      "FizzBuzz\n",
      "16\n",
      "17\n",
      "Fizz\n",
      "19\n",
      "Buzz\n",
      "Fizz\n",
      "22\n",
      "23\n",
      "Fizz\n",
      "Buzz\n",
      "26\n",
      "Fizz\n",
      "28\n",
      "29\n",
      "FizzBuzz\n",
      "31\n",
      "32\n",
      "Fizz\n",
      "34\n",
      "Buzz\n",
      "Fizz\n",
      "37\n",
      "38\n",
      "Fizz\n",
      "Buzz\n",
      "41\n",
      "Fizz\n",
      "43\n",
      "44\n",
      "FizzBuzz\n",
      "46\n",
      "47\n",
      "Fizz\n",
      "49\n",
      "Buzz\n",
      "Fizz\n",
      "52\n",
      "53\n",
      "Fizz\n",
      "Buzz\n",
      "56\n",
      "Fizz\n",
      "58\n",
      "59\n",
      "FizzBuzz\n",
      "61\n",
      "62\n",
      "Fizz\n",
      "64\n",
      "Buzz\n",
      "Fizz\n",
      "67\n",
      "68\n",
      "Fizz\n",
      "Buzz\n",
      "71\n",
      "Fizz\n",
      "73\n",
      "74\n",
      "FizzBuzz\n",
      "76\n",
      "77\n",
      "Fizz\n",
      "79\n",
      "Buzz\n",
      "Fizz\n",
      "82\n",
      "83\n",
      "Fizz\n",
      "Buzz\n",
      "86\n",
      "Fizz\n",
      "88\n",
      "89\n",
      "FizzBuzz\n",
      "91\n",
      "92\n",
      "Fizz\n",
      "94\n",
      "Buzz\n",
      "Fizz\n",
      "97\n",
      "98\n",
      "Fizz\n",
      "Buzz\n"
     ]
    }
   ],
   "source": [
    "# use modulus function to find if the number is divisible by 3 and/or 5\n",
    "# print FizzBuzz if number is divisible by 3 AND 5, else either Fizz (3) or Buzz (5)\n",
    "for num in range(0, 101):\n",
    "    if num%3 == 0 and num%5 == 0:\n",
    "        print('FizzBuzz')\n",
    "        \n",
    "    elif num%3 == 0:\n",
    "        print('Fizz')\n",
    "        \n",
    "    elif num%5 == 0:\n",
    "        print('Buzz')\n",
    "        \n",
    "    else:\n",
    "        print(num)"
   ]
  },
  {
   "cell_type": "code",
   "execution_count": null,
   "metadata": {},
   "outputs": [],
   "source": []
  }
 ],
 "metadata": {
  "anaconda-cloud": {},
  "kernelspec": {
   "display_name": "Python 3",
   "language": "python",
   "name": "python3"
  },
  "language_info": {
   "codemirror_mode": {
    "name": "ipython",
    "version": 3
   },
   "file_extension": ".py",
   "mimetype": "text/x-python",
   "name": "python",
   "nbconvert_exporter": "python",
   "pygments_lexer": "ipython3",
   "version": "3.8.8"
  }
 },
 "nbformat": 4,
 "nbformat_minor": 4
}
